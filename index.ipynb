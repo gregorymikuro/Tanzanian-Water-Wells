{
 "cells": [
  {
   "cell_type": "markdown",
   "metadata": {},
   "source": [
    "## __3.0 Data Extraction__"
   ]
  },
  {
   "cell_type": "code",
   "execution_count": 16,
   "metadata": {},
   "outputs": [],
   "source": [
    "# Import the necessary libraries\n",
    "\n",
    "import pandas as pd"
   ]
  },
  {
   "cell_type": "code",
   "execution_count": 18,
   "metadata": {},
   "outputs": [],
   "source": [
    "class DataExtractor:\n",
    "    \"\"\"\n",
    "    This class handles data importation and preprocessing for the Tanzanian Water Wells project.\n",
    "    \"\"\"\n",
    "\n",
    "    def load_data(self):\n",
    "        \"\"\"\n",
    "        Loads and combines training data, and renames test data.\n",
    "\n",
    "        Returns:\n",
    "            tuple: A tuple containing the training set (DataFrame) and test set (DataFrame).\n",
    "        \"\"\"\n",
    "\n",
    "        # Load data from CSVs\n",
    "        df_labels = pd.read_csv(\"data/training-set-labels.csv\")\n",
    "        df_values = pd.read_csv(\"data/training-set-values.csv\")\n",
    "\n",
    "        # Combine training set values and labels using a left join\n",
    "        df_train = df_values.merge(df_labels, on=\"id\", how=\"left\")\n",
    "        df_train.to_csv(\"data/train_set.csv\", index=False) \n",
    "\n",
    "        # Rename test data\n",
    "        df_test = pd.read_csv(\"data/test-set-values.csv\")\n",
    "        df_test.to_csv(\"data/test_set.csv\", index=False)\n",
    "\n",
    "        return df_train, df_test\n",
    "\n",
    "\n",
    "\n",
    "extractor = DataExtractor()\n",
    "\n",
    "train_data, test_data = extractor.load_data()\n",
    "\n"
   ]
  },
  {
   "cell_type": "code",
   "execution_count": 23,
   "metadata": {},
   "outputs": [
    {
     "name": "stdout",
     "output_type": "stream",
     "text": [
      "Training data shape: (59400, 41)\n",
      "| id    | amount_tsh   | date_recorded   | funder       | gps_height   | installer    | longitude   | latitude   | wpt_name             | num_private   | basin                   | subvillage   | region   | region_code   | district_code   | lga       | ward       | population   | public_meeting   | recorded_by             | scheme_management   | scheme_name                 | permit   | construction_year   | extraction_type   | extraction_type_group   | extraction_type_class   | management   | management_group   | payment        | payment_type   | water_quality   | quality_group   | quantity     | quantity_group   | source               | source_type          | source_class   | waterpoint_type             | waterpoint_type_group   | status_group   |\n",
      "|:------|:-------------|:----------------|:-------------|:-------------|:-------------|:------------|:-----------|:---------------------|:--------------|:------------------------|:-------------|:---------|:--------------|:----------------|:----------|:-----------|:-------------|:-----------------|:------------------------|:--------------------|:----------------------------|:---------|:--------------------|:------------------|:------------------------|:------------------------|:-------------|:-------------------|:---------------|:---------------|:----------------|:----------------|:-------------|:-----------------|:---------------------|:---------------------|:---------------|:----------------------------|:------------------------|:---------------|\n",
      "| 69572 | 6000         | 2011-03-14      | Roman        | 1390         | Roman        | 34.9381     | -9.85632   | none                 | 0             | Lake Nyasa              | Mnyusi B     | Iringa   | 11            | 5               | Ludewa    | Mundindi   | 109          | 1                | GeoData Consultants Ltd | VWC                 | Roman                       | False    | 1999                | gravity           | gravity                 | gravity                 | vwc          | user-group         | pay annually   | annually       | soft            | good            | enough       | enough           | spring               | spring               | groundwater    | communal standpipe          | communal standpipe      | functional     |\n",
      "| 8776  | 0            | 2013-03-06      | Grumeti      | 1399         | GRUMETI      | 34.6988     | -2.14747   | Zahanati             | 0             | Lake Victoria           | Nyamara      | Mara     | 20            | 2               | Serengeti | Natta      | 280          | nan              | GeoData Consultants Ltd | Other               | nan                         | True     | 2010                | gravity           | gravity                 | gravity                 | wug          | user-group         | never pay      | never pay      | soft            | good            | insufficient | insufficient     | rainwater harvesting | rainwater harvesting | surface        | communal standpipe          | communal standpipe      | functional     |\n",
      "| 34310 | 25           | 2013-02-25      | Lottery Club | 686          | World vision | 37.4607     | -3.82133   | Kwa Mahundi          | 0             | Pangani                 | Majengo      | Manyara  | 21            | 4               | Simanjiro | Ngorika    | 250          | 1                | GeoData Consultants Ltd | VWC                 | Nyumba ya mungu pipe scheme | True     | 2009                | gravity           | gravity                 | gravity                 | vwc          | user-group         | pay per bucket | per bucket     | soft            | good            | enough       | enough           | dam                  | dam                  | surface        | communal standpipe multiple | communal standpipe      | functional     |\n",
      "| 67743 | 0            | 2013-01-28      | Unicef       | 263          | UNICEF       | 38.4862     | -11.1553   | Zahanati Ya Nanyumbu | 0             | Ruvuma / Southern Coast | Mahakamani   | Mtwara   | 90            | 63              | Nanyumbu  | Nanyumbu   | 58           | 1                | GeoData Consultants Ltd | VWC                 | nan                         | True     | 1986                | submersible       | submersible             | submersible             | vwc          | user-group         | never pay      | never pay      | soft            | good            | dry          | dry              | machine dbh          | borehole             | groundwater    | communal standpipe multiple | communal standpipe      | non functional |\n",
      "| 19728 | 0            | 2011-07-13      | Action In A  | 0            | Artisan      | 31.1308     | -1.82536   | Shuleni              | 0             | Lake Victoria           | Kyanyamisa   | Kagera   | 18            | 1               | Karagwe   | Nyakasimbi | 0            | 1                | GeoData Consultants Ltd | nan                 | nan                         | True     | 0                   | gravity           | gravity                 | gravity                 | other        | other              | never pay      | never pay      | soft            | good            | seasonal     | seasonal         | rainwater harvesting | rainwater harvesting | surface        | communal standpipe          | communal standpipe      | functional     |\n"
     ]
    }
   ],
   "source": [
    "print(\"Training data shape:\", train_data.shape)\n",
    "\n",
    "\n",
    "print(train_data.head().to_markdown(index=False, numalign='left', stralign='left'))\n",
    "\n",
    "\n"
   ]
  },
  {
   "cell_type": "code",
   "execution_count": 21,
   "metadata": {},
   "outputs": [
    {
     "name": "stdout",
     "output_type": "stream",
     "text": [
      "Test data shape: (14850, 40)\n",
      "| id    | amount_tsh   | date_recorded   | funder                 | gps_height   | installer   | longitude   | latitude   | wpt_name                | num_private   | basin                   | subvillage   | region   | region_code   | district_code   | lga           | ward         | population   | public_meeting   | recorded_by             | scheme_management   | scheme_name    | permit   | construction_year   | extraction_type   | extraction_type_group   | extraction_type_class   | management   | management_group   | payment     | payment_type   | water_quality   | quality_group   | quantity     | quantity_group   | source               | source_type          | source_class   | waterpoint_type    | waterpoint_type_group   |\n",
      "|:------|:-------------|:----------------|:-----------------------|:-------------|:------------|:------------|:-----------|:------------------------|:--------------|:------------------------|:-------------|:---------|:--------------|:----------------|:--------------|:-------------|:-------------|:-----------------|:------------------------|:--------------------|:---------------|:---------|:--------------------|:------------------|:------------------------|:------------------------|:-------------|:-------------------|:------------|:---------------|:----------------|:----------------|:-------------|:-----------------|:---------------------|:---------------------|:---------------|:-------------------|:------------------------|\n",
      "| 50785 | 0            | 2013-02-04      | Dmdd                   | 1996         | DMDD        | 35.2908     | -4.0597    | Dinamu Secondary School | 0             | Internal                | Magoma       | Manyara  | 21            | 3               | Mbulu         | Bashay       | 321          | 1                | GeoData Consultants Ltd | Parastatal          | nan            | 1        | 2012                | other             | other                   | other                   | parastatal   | parastatal         | never pay   | never pay      | soft            | good            | seasonal     | seasonal         | rainwater harvesting | rainwater harvesting | surface        | other              | other                   |\n",
      "| 51630 | 0            | 2013-02-04      | Government Of Tanzania | 1569         | DWE         | 36.6567     | -3.30921   | Kimnyak                 | 0             | Pangani                 | Kimnyak      | Arusha   | 2             | 2               | Arusha Rural  | Kimnyaki     | 300          | 1                | GeoData Consultants Ltd | VWC                 | TPRI pipe line | 1        | 2000                | gravity           | gravity                 | gravity                 | vwc          | user-group         | never pay   | never pay      | soft            | good            | insufficient | insufficient     | spring               | spring               | groundwater    | communal standpipe | communal standpipe      |\n",
      "| 17168 | 0            | 2013-02-01      | nan                    | 1567         | nan         | 34.7679     | -5.00434   | Puma Secondary          | 0             | Internal                | Msatu        | Singida  | 13            | 2               | Singida Rural | Puma         | 500          | 1                | GeoData Consultants Ltd | VWC                 | P              | nan      | 2010                | other             | other                   | other                   | vwc          | user-group         | never pay   | never pay      | soft            | good            | insufficient | insufficient     | rainwater harvesting | rainwater harvesting | surface        | other              | other                   |\n",
      "| 45559 | 0            | 2013-01-22      | Finn Water             | 267          | FINN WATER  | 38.058      | -9.41867   | Kwa Mzee Pange          | 0             | Ruvuma / Southern Coast | Kipindimbi   | Lindi    | 80            | 43              | Liwale        | Mkutano      | 250          | nan              | GeoData Consultants Ltd | VWC                 | nan            | 1        | 1987                | other             | other                   | other                   | vwc          | user-group         | unknown     | unknown        | soft            | good            | dry          | dry              | shallow well         | shallow well         | groundwater    | other              | other                   |\n",
      "| 49871 | 500          | 2013-03-27      | Bruder                 | 1260         | BRUDER      | 35.0061     | -10.9504   | Kwa Mzee Turuka         | 0             | Ruvuma / Southern Coast | Losonga      | Ruvuma   | 10            | 3               | Mbinga        | Mbinga Urban | 60           | nan              | GeoData Consultants Ltd | Water Board         | BRUDER         | 1        | 2000                | gravity           | gravity                 | gravity                 | water board  | user-group         | pay monthly | monthly        | soft            | good            | enough       | enough           | spring               | spring               | groundwater    | communal standpipe | communal standpipe      |\n"
     ]
    }
   ],
   "source": [
    "\n",
    "print(\"Test data shape:\", test_data.shape)\n",
    "\n",
    "\n",
    "print(test_data.head().to_markdown(index=False, numalign='left', stralign='left'))"
   ]
  },
  {
   "cell_type": "markdown",
   "metadata": {},
   "source": [
    "## __4.0 Data Overview__ "
   ]
  },
  {
   "cell_type": "code",
   "execution_count": 3,
   "metadata": {},
   "outputs": [],
   "source": [
    "class DataOverview(DataExtractor):\n",
    "    \"\"\"\n",
    "    This class inherits from DataExtractor and provides methods for overviewing the \n",
    "    training and test datasets.\n",
    "    \"\"\"\n",
    "\n",
    "    def show_overview(self, df, dataset_name=\"Dataset\"):\n",
    "        \"\"\"\n",
    "        Displays a comprehensive overview of a given dataset.\n",
    "\n",
    "        Args:\n",
    "            df (DataFrame): The DataFrame containing the data.\n",
    "            dataset_name (str): A name to identify the dataset in the output. Defaults to \"Dataset\".\n",
    "        \"\"\"\n",
    "        print(f\"\\n--- Overview of {dataset_name} ---\\n\")\n",
    "\n",
    "        # Basic Info\n",
    "        print(\"Info:\")\n",
    "        print(df.info())\n",
    "\n",
    "        # First 5 and Last 5 Rows\n",
    "        print(\"\\nFirst 5 Rows:\")\n",
    "        print(df.head().to_markdown(index=False, numalign='left', stralign='left'))\n",
    "        print(\"\\nLast 5 Rows:\")\n",
    "        print(df.tail().to_markdown(index=False, numalign='left', stralign='left'))\n",
    "\n",
    "        # Descriptive Statistics\n",
    "        print(\"\\nDescriptive Statistics:\")\n",
    "        print(df.describe().to_markdown(numalign='left', stralign='left'))\n",
    "\n",
    "        # Duplicate Rows\n",
    "        num_duplicates = df.duplicated().sum()\n",
    "        print(f\"\\nNumber of Duplicate Rows: {num_duplicates}\")\n",
    "\n",
    "        # Unique Values Percentage\n",
    "        unique_pct = (df.nunique() / df.shape[0] * 100).round(2)\n",
    "        print(\"\\nPercentage of Unique Values per Column:\")\n",
    "        print(unique_pct.to_markdown(numalign='left', stralign='left'))\n",
    "\n",
    "        # Missing and Null Values Percentage\n",
    "        missing_pct = (df.isnull().sum() / df.shape[0] * 100).round(2)\n",
    "        print(\"\\nPercentage of Missing/Null Values per Column:\")\n",
    "        print(missing_pct.to_markdown(numalign='left', stralign='left'))\n",
    "\n",
    "\n",
    "\n",
    "# Create the DataOverview instance\n",
    "overview = DataOverview()\n",
    "\n",
    "# Load the training and test data\n",
    "train_data, test_data = overview.load_data()\n"
   ]
  },
  {
   "cell_type": "code",
   "execution_count": 13,
   "metadata": {},
   "outputs": [],
   "source": [
    "# Show overviews\n",
    "# overview.show_overview(train_data, \"Training Set\")"
   ]
  },
  {
   "cell_type": "code",
   "execution_count": 12,
   "metadata": {},
   "outputs": [],
   "source": [
    "# overview.show_overview(test_data, \"Test Set\")"
   ]
  },
  {
   "cell_type": "markdown",
   "metadata": {},
   "source": [
    "## __5.0 Data Cleaning__"
   ]
  },
  {
   "cell_type": "code",
   "execution_count": 15,
   "metadata": {},
   "outputs": [],
   "source": [
    "class DataCleaning(DataOverview):\n",
    "    \"\"\"\n",
    "    Cleans the training and test datasets, and provides overviews of both the original and cleaned versions.\n",
    "    \"\"\"\n",
    "    \n",
    "    def clean_data(self, df, dataset_name=\"Dataset\"):\n",
    "        \"\"\"\n",
    "        Performs cleaning operations on the DataFrame and saves the results.\n",
    "\n",
    "        Args:\n",
    "            df (DataFrame): The DataFrame to clean.\n",
    "            dataset_name (str): The name of the dataset (\"Training\" or \"Test\") for saving.\n",
    "        \"\"\"\n",
    "\n",
    "        print(f\"\\n--- Cleaning {dataset_name} Set ---\\n\")  # Added for clarity\n",
    "        \n",
    "        # Extract year from date_recorded and drop original\n",
    "        df[\"year_recorded\"] = pd.to_datetime(df[\"date_recorded\"]).dt.year\n",
    "        df.drop(columns=[\"date_recorded\"], inplace=True)\n",
    "\n",
    "        # Impute missing categorical values \n",
    "        for col in [\"funder\", \"installer\", \"subvillage\", \"public_meeting\", \"scheme_management\", \"wpt_name\", \"permit\"]:\n",
    "            most_frequent_value = df[col].mode()[0]\n",
    "            df[col] = df[col].fillna(most_frequent_value)\n",
    "\n",
    "        # Impute zero values in 'construction_year'\n",
    "        df[\"construction_year\"] = df[\"construction_year\"].fillna(0)\n",
    "\n",
    "        # Drop columns\n",
    "        df.drop(columns=[\"num_private\", \"recorded_by\", \"scheme_name\", \n",
    "                         \"extraction_type_group\", \"extraction_type\", \"payment\", \n",
    "                         \"water_quality\", \"quantity_group\", \"source\", \"source_type\", \n",
    "                         \"waterpoint_type_group\", \"lga\", \"ward\"], inplace=True)\n",
    "        \n",
    "\n",
    "        # Save cleaned data and show overview\n",
    "        df.to_csv(f\"data/cleaned_{dataset_name.lower()}_set.csv\", index=False)\n",
    "        self.show_overview(df, f\"Cleaned {dataset_name} Set\")\n",
    "\n",
    "        return df\n",
    "\n",
    "# Example Usage\n",
    "cleaner = DataCleaning()\n",
    "train_data, test_data = cleaner.load_data()\n",
    "\n",
    "# Show overviews before cleaning\n",
    "# cleaner.show_overview(train_data, \"Original Training Set\")\n",
    "# cleaner.show_overview(test_data, \"Original Test Set\")\n",
    "\n",
    "# Clean the data and show overviews afterwards\n",
    "# train_data_cleaned = cleaner.clean_data(train_data, \"Training\")\n",
    "# test_data_cleaned = cleaner.clean_data(test_data, \"Test\")\n"
   ]
  },
  {
   "cell_type": "code",
   "execution_count": 14,
   "metadata": {},
   "outputs": [],
   "source": [
    "# Overview of cleaned train data\n",
    "# # train_data_cleaned = cleaner.clean_data(train_data, \"Training\")"
   ]
  },
  {
   "cell_type": "code",
   "execution_count": 11,
   "metadata": {},
   "outputs": [],
   "source": [
    "\n",
    "# test_data_cleaned = cleaner.clean_data(test_data, \"Test\")"
   ]
  }
 ],
 "metadata": {
  "kernelspec": {
   "display_name": "base",
   "language": "python",
   "name": "python3"
  },
  "language_info": {
   "codemirror_mode": {
    "name": "ipython",
    "version": 3
   },
   "file_extension": ".py",
   "mimetype": "text/x-python",
   "name": "python",
   "nbconvert_exporter": "python",
   "pygments_lexer": "ipython3",
   "version": "3.11.7"
  }
 },
 "nbformat": 4,
 "nbformat_minor": 2
}
